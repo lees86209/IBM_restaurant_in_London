{
 "cells": [
  {
   "cell_type": "markdown",
   "metadata": {},
   "source": [
    "# According to the characteristics of different regions choose suitable restaurants in London \n",
    "### 1. Introduction\n",
    "\n",
    "London is the capital of the United Kingdom. There are different cultures and people from all over the world live in London. At the same time, London also has many tourists. Because London has people from all over the world, specialty restaurants often gather in places where the corresponding ethnic groups live. The analysis is to find out which areas are suitable for opening which restaurants, and give a clear view for inspection.\n",
    "\n",
    "### 2. Business problem\n",
    "Restaurant is a very competitive industry, full of individual specialty shops, chain restaurants, local snacks, and fine dining. Various types of restaurants are suitable for the characteristics of different regions. Some places have higher consumption power, and some places Prefer to eat Italian food. In this study, we will solve this problem and give clear suggestions so that people who want to open a restaurant have a good reference index.\n",
    "\n",
    "We will consider the density of the population, the area where the same type of restaurant is concentrated, and the diversification of the regional restaurant types. Based on the above considerations, we will evaluate the types of restaurants suitable for opening in each region."
   ]
  }
 ],
 "metadata": {
  "kernelspec": {
   "display_name": "Python 3",
   "language": "python",
   "name": "python3"
  },
  "language_info": {
   "codemirror_mode": {
    "name": "ipython",
    "version": 3
   },
   "file_extension": ".py",
   "mimetype": "text/x-python",
   "name": "python",
   "nbconvert_exporter": "python",
   "pygments_lexer": "ipython3",
   "version": "3.7.6"
  }
 },
 "nbformat": 4,
 "nbformat_minor": 4
}
